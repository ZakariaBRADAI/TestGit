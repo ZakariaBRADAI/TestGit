{
 "cells": [
  {
   "cell_type": "markdown",
   "id": "0fae36d4-eca7-44ec-b442-af146d7863db",
   "metadata": {},
   "source": [
    "# Guide communication série avec Python :"
   ]
  },
  {
   "cell_type": "markdown",
   "id": "dc501163-6773-43fa-a45d-12c2f0c8ee33",
   "metadata": {},
   "source": [
    "--------------\n",
    "\n",
    "##### Sommaire :\n",
    "\n",
    "$\\quad \\quad $ I- Introduction et objectifs\n",
    "\n",
    "$\\quad \\quad $ II- Communication série avec `PySerial`\n",
    "\n",
    "$\\quad \\quad \\quad \\quad \\quad$ II-a. Lister les appareils connectés\n",
    "\n",
    "$\\quad \\quad \\quad \\quad \\quad$ II-b. Établir la communication avec l'appareil\n",
    "\n",
    "$\\quad \\quad \\quad \\quad \\quad$ II-c. Première communication\n",
    "\n",
    "$\\quad \\quad \\quad \\quad \\quad$ II-d. Récupérer et afficher des données - exemple avec un capteur de température\n",
    "\n",
    "$\\quad \\quad $ III- Conclusion\n",
    "\n",
    "\n",
    "----------"
   ]
  },
  {
   "cell_type": "markdown",
   "id": "d9b9c00e-bb61-4001-ba48-9eb801760e1d",
   "metadata": {},
   "source": [
    "## I- Introduction et objectifs :"
   ]
  },
  {
   "cell_type": "markdown",
   "id": "3a552284-3a66-4fa3-8f37-3fee2aafaa95",
   "metadata": {},
   "source": [
    "Ce Jupyter Notebook constitue un résumé du chapitre 3 *Writing the first Driver* du guide *Python for lab the Lab.*\n",
    "\n",
    "Il se concentrera sur la communication avec les appareils série avec le package `Pyserial`, l'envoi et la réception de données ainsi que sur les notions \"basiques\" orbitant autour avec à chaque étape des exemples et des codes Python.\n",
    "\n",
    "Nous utiliserons les packages `PySerial`, `time` et `Matplotlib`, le package `PyVisa` sera cité en exemple à la conclusion."
   ]
  },
  {
   "cell_type": "markdown",
   "id": "f0ec25fb-19ed-450d-b17c-7fda8c9947cf",
   "metadata": {},
   "source": [
    "## II- Communication série avec `PySerial` :"
   ]
  },
  {
   "cell_type": "markdown",
   "id": "35137ca6-2035-4777-87fd-bc5449e89d7e",
   "metadata": {},
   "source": [
    "### II.a- Lister les appareils connectés :"
   ]
  },
  {
   "cell_type": "markdown",
   "id": "4e652e8d-1066-4b08-afd5-00ce63de6c22",
   "metadata": {},
   "source": [
    "Pour communiquer avec les appareils *PFTL DAQ*, nous allons utiliser le package `PySerial`.\n"
   ]
  },
  {
   "cell_type": "code",
   "execution_count": 1,
   "id": "344eda01-4234-4190-bc93-f456dd2eaa7e",
   "metadata": {},
   "outputs": [],
   "source": [
    "import serial"
   ]
  },
  {
   "cell_type": "markdown",
   "id": "b639bbe4-8049-412f-94e8-02d5c52cc0d0",
   "metadata": {},
   "source": [
    "En premier lieu, nous allons lister les appareils connectés à notre ordinateur. Il est d'usage de connecter l'appareil au port USB le plus proche de la prise-jack (appelé port de programmation).\n",
    "\n",
    "Ensuite, il faut exécuter la commande suivante dans un terminal ou dans l'invite de commande si vous êtes sous Windows :"
   ]
  },
  {
   "cell_type": "markdown",
   "id": "fe57ef14-9db7-4a0c-81d5-fff9c93bc838",
   "metadata": {},
   "source": [
    "`python -m serial.tools.list_ports`"
   ]
  },
  {
   "cell_type": "markdown",
   "id": "e6559b96-6abc-4e89-a9cb-6e3799472a47",
   "metadata": {},
   "source": [
    "Sous Windows, le résultat est sous la forme :\n",
    "\n",
    "`COM3`\n",
    "\n",
    "${} \\;$\n",
    "\n",
    "Sous Mac ou Linux, la réponse est de la forme :\n",
    "\n",
    "`/dev/ttyACM3`\n",
    "\n",
    "${} \\;$\n",
    "\n",
    "Dans cet exemple, nous avons connecté un Arduino Uno.\n",
    "\n",
    "La commande nous renvoie le port virtuel auquel est relié notre Arduino.\n",
    "\n",
    "${} \\;$\n",
    "\n",
    "Si plusieurs appareils sont connectés, nous aurions obtenu un réponse de la forme :\n",
    "\n",
    "`COMX`\n",
    "\n",
    "`COMY`\n",
    "\n",
    "`COMZ`\n",
    "\n",
    "`...`\n",
    "\n",
    "Soit une succession de lignes contenant les ports virtuels reliés à nos appareils ($X$, $Y$ et $Z$ étants des entiers).\n",
    "\n",
    "${} \\;$"
   ]
  },
  {
   "cell_type": "markdown",
   "id": "b17d6eb7-bb58-470a-8386-7ce60c8a8022",
   "metadata": {},
   "source": [
    "---------------"
   ]
  },
  {
   "cell_type": "markdown",
   "id": "9995d8e8-14b1-474c-b4d2-9b5c92ef1f55",
   "metadata": {},
   "source": [
    "**ports COM physiques et ports COM virtuels :**\n",
    "\n",
    "*Un port COM :* ou port série **physique** est simplement une interface d’entrée/sortie asynchrone permettant la connexion d’un périphérique série à un ordinateur et la transmission d'un bit de données à la fois lorsqu’un périphérique série y est connecté. La norme des voies de communication série est appelée **RS-232** (Recommanded Standard 232) et qui est disponible sur quasiment tout les PCs.\n",
    "\n",
    "${} \\;$\n",
    "\n",
    "![port_COM.png](port_COM.png)\n",
    "\n",
    "${} \\;$\n",
    "\n",
    "La plupart des ordinateurs modernes ne sont pas équipés de ports COM qui ont été remplacés par les ports USB, ces derniers permettent une transmission plus rapide des données.\n",
    "\n",
    "Néanmoins, il est possible de communiquer avec un apapreil disposant uniquement d'un port série en utilisant un adaptateur USB/série et en installant (certains PCs l'ont de base) un pilote de périphérique qui est un programme qui permet à l'ordinateur de créer un **port série virtuel** qui se comporte comme un port série physique en utilisant l'USB comme un adaptateur RS-232.\n",
    "\n"
   ]
  },
  {
   "cell_type": "markdown",
   "id": "096c8eac-c2bf-45ad-be37-37d853463794",
   "metadata": {},
   "source": [
    "--------------------"
   ]
  },
  {
   "cell_type": "markdown",
   "id": "e4ec3b33-49a5-4693-a78d-cc57eb1a1f1c",
   "metadata": {},
   "source": [
    "${} \\;$\n",
    "\n",
    "\n",
    "\n",
    "**De manière plus simple et plus efficace**, on peut lister les appareils connectés directement via une cellule Python en exécutant le code suivant :"
   ]
  },
  {
   "cell_type": "code",
   "execution_count": 2,
   "id": "1033a3dc-0742-408d-81cc-2961fc921609",
   "metadata": {},
   "outputs": [
    {
     "name": "stdout",
     "output_type": "stream",
     "text": [
      "COM3 - Arduino Uno (COM3)\n"
     ]
    }
   ],
   "source": [
    "import serial.tools.list_ports\n",
    "\n",
    "serial_port = serial.tools.list_ports.comports()\n",
    "\n",
    "for port in serial_port:\n",
    "    print(f\"{port}\")"
   ]
  },
  {
   "cell_type": "markdown",
   "id": "ad8dc8d5-810f-4c0a-892f-31c130833e88",
   "metadata": {},
   "source": [
    "${} \\;$\n",
    "\n",
    "Cette fois, on la réponse est une succession de lignes chacune contenant le port série relié ainsi qu'une courte desciption de l'appareil (cette description est ajoutée par le constructeur et peut par conséquent ne pas être présente sur certains appareils). \n",
    "\n",
    "Cette méthode a l'avantage d'éviter de passer par un terminal d'une part, et de pouvoir directement savoir quel appareil est relié à quel port série.\n",
    "\n",
    "${} \\;$\n",
    "\n",
    "Dans le bout de code précédent, la variable `serial_port` est une liste contenant des objets `ListPortInfo`."
   ]
  },
  {
   "cell_type": "code",
   "execution_count": 3,
   "id": "af511e2d-6493-4474-a1df-2d336ca9ce89",
   "metadata": {},
   "outputs": [
    {
     "name": "stdout",
     "output_type": "stream",
     "text": [
      "<class 'serial.tools.list_ports_common.ListPortInfo'>\n"
     ]
    }
   ],
   "source": [
    "arduino = serial_port[0]\n",
    "print( type(arduino) )"
   ]
  },
  {
   "cell_type": "markdown",
   "id": "5e64df15-e1b7-482f-b8a2-12d568de7935",
   "metadata": {},
   "source": [
    "Listons quelques attributs utiles des objets `ListPortInfo` :\n",
    "\n",
    "| attribut | renvoie  |\n",
    "|-----------------------|----------------------------------------|\n",
    "| **name** | nom de l'appareil (ou son port série si le constructeur n'a pas précisé de nom)   |\n",
    "|   **device**  | nom complet de l'appareil (ou son port série si le constructeur n'a pas précisé de nom)|\n",
    "|   **hwid**  | description technique de la connexion série de l'appareil|\n",
    "|   **serial_number**  | numéro de série de l'appareil|\n",
    "|   **location**  | port USB auquel est relié l'appareil |"
   ]
  },
  {
   "cell_type": "code",
   "execution_count": 4,
   "id": "e3758067-b864-444d-b919-ae692fb0e328",
   "metadata": {},
   "outputs": [
    {
     "data": {
      "text/plain": [
       "'USB VID:PID=2341:0043 SER=8503631363035190A150 LOCATION=1-1'"
      ]
     },
     "execution_count": 4,
     "metadata": {},
     "output_type": "execute_result"
    }
   ],
   "source": [
    "arduino.hwid"
   ]
  },
  {
   "cell_type": "markdown",
   "id": "01f5ffa8-e5af-495e-9035-6f15e503928e",
   "metadata": {},
   "source": [
    "L'attribut **hwid** résume les principales proporiétés de la connexion série de notre appareil.\n",
    "\n",
    "${} \\;$\n",
    "\n",
    "Une fois le port série associé connu, nous pouvons communiquer avec notre appareil avec Python.\n",
    "\n",
    "${} \\;$\n"
   ]
  },
  {
   "cell_type": "markdown",
   "id": "43daf222-668a-4071-bb14-11fdc98027f9",
   "metadata": {},
   "source": [
    "### II.b- Établir la communication avec l'appareil :"
   ]
  },
  {
   "cell_type": "markdown",
   "id": "7d2492fd-b696-4615-b0c6-cee131fbc481",
   "metadata": {},
   "source": [
    "Pour établir la communication avec notre appareil, il faut exécuter le code suivant:"
   ]
  },
  {
   "cell_type": "markdown",
   "id": "34603ba1-67f1-4b06-9ea2-caef4ba7d8a3",
   "metadata": {},
   "source": [
    "`device = serial.Serial(port = XXXX, baudrate = XXXX, timeout=1)`"
   ]
  },
  {
   "cell_type": "markdown",
   "id": "7b984d83-db35-4d1f-a70a-c651be737930",
   "metadata": {},
   "source": [
    "On utilise le fonction `Serial` du package `PySerial` dont les arguments sont :\n",
    "\n",
    "$\\quad \\quad \\bullet$ `port` (de type *string*) : qui est le port série auquel est relié notre appareil, dans l'exemple précédent notre carte Arduino est relié au port `COM3`.\n",
    "\n",
    "$\\quad \\quad \\bullet$ `baudrate` (de type *int*) : il s'agit de la vitesse de transmission et de réception des données par les 2 nœuds du réseau en $\\mathrm{bauds}$, un $\\mathrm{baud}$ est l'unité de mesure du nombre de symboles transmissibles par seconde. \n",
    "\n",
    "**Généralement** pour les transmissions séries, pour chaque symbole on transmet 10 $\\mathrm{bit}$ (ou 11 $\\mathrm{bit}$ en ajoutant à la fin 1 $\\mathrm{bit}$ de parité), 1 $\\mathrm{bit}$ de départ et 1 $\\mathrm{bit}$ de fin, et entre les 2 les données utiles et effectivement transmises prennent 8 $\\mathrm{bits}$ soit 1 octet (mais ce n'est pas toujours le cas).\n",
    "\n",
    "Ainsi, pour obtenir **un ordre de grandeur** de la vitesse de communication en $\\mathrm{bit/seconde}$ et non pas la valeur exacte, il suffit de diviser le baudrate par 10.\n",
    "\n",
    "$\\quad \\quad \\bullet$ `timeout` (de type *float* ou *int*) : Lorsque l'on établit la communication avec l'appareil il y a un délai avant de pouvoir communiquer avec, l'argument `timeout` correspond à ce délai. Typiquement il varie entre $0.5\\mathrm{s}$ et $2\\mathrm{s}$ et il est d'usage de le prende égale à $1\\mathrm{s}$.\n",
    "\n",
    "${} \\;$\n",
    "\n"
   ]
  },
  {
   "cell_type": "markdown",
   "id": "7821cc69-573a-4892-ae71-b84c92ad05a9",
   "metadata": {},
   "source": [
    "La fonction `Serial` dispose d'autres arguments qui permettent d'affiner la communication avec l'appareil, nous avons içi listé uniquement les 3 arguments qui doivent obligatoirement être communiqués pour que la communication soit établie.\n",
    "\n",
    "${} \\;$\n",
    "\n",
    "**Remarque :** La valeur de l'argument `port` est évidente et la valeur de l'argument `timeout` est d'usage prise égale à $1\\mathrm{s}$, alors quelle est la valeur du baudrate ?\n",
    "\n",
    "Et bien il faut se référer au Manuel de l'appareil ou voir ses réglages pour connaître la valeur de son baudrate, si vous entrer une valeur différente de celle de l'appareil alors la communication ne se fera pas.\n",
    "\n",
    "${} \\;$"
   ]
  },
  {
   "cell_type": "markdown",
   "id": "814e5d2f-90b9-428d-a6aa-b6520846e96d",
   "metadata": {},
   "source": [
    "### II.c- Première communication :"
   ]
  },
  {
   "cell_type": "markdown",
   "id": "efefc872-83e7-4850-903f-a2f839489469",
   "metadata": {},
   "source": [
    "Pour notre première communication, nous allons demander à l'appareil son *identité* en exécutant le code suivant :"
   ]
  },
  {
   "cell_type": "markdown",
   "id": "3b2e84c0-877d-4e1c-838f-1679e9a42466",
   "metadata": {},
   "source": [
    "`import serial`\n",
    "\n",
    "`device = serial.Serial(port=, baudrate=, timeout=1)`\n",
    "\n",
    "`device.write(b'COMMANDE POUR DEMANDER L IDENTITE')`\n",
    "\n",
    "`answer = device.readline()`\n",
    "\n",
    "`print(answer)`"
   ]
  },
  {
   "cell_type": "markdown",
   "id": "eb9ab339-3a49-468d-8ab1-7e9083924b44",
   "metadata": {},
   "source": [
    "${} \\;$\n",
    "\n",
    "Adaptons ce code à notre Arduino Uno (le code téléversé à l'Arduino est *IDN_Arduino_UNO.ino*):"
   ]
  },
  {
   "cell_type": "code",
   "execution_count": 5,
   "id": "196d9f5c-2eb9-47ca-acd7-0f55d4d3297f",
   "metadata": {},
   "outputs": [
    {
     "name": "stdout",
     "output_type": "stream",
     "text": [
      "b'My ID is : COM 3 - Arduino Uno'\n"
     ]
    }
   ],
   "source": [
    "arduino = serial.Serial(port='COM3', baudrate=2000000, timeout=1)   # établit la communication avec l'appareil\n",
    "\n",
    "from time import sleep\n",
    "sleep(2)  # met le programme en pause pendant 2 secondes\n",
    "\n",
    "arduino.write(b'IDN?\\n')    # On envoie des données à l'appreil\n",
    "\n",
    "answer = arduino.readline()  # On récupère des données de l'appreil\n",
    "\n",
    "print(answer)\n",
    "\n",
    "arduino.close()   # arrête la communication avec l'appareil"
   ]
  },
  {
   "cell_type": "markdown",
   "id": "f6243f99-872d-489b-8ae1-cfd425de2d94",
   "metadata": {},
   "source": [
    "${} \\;$\n",
    "\n",
    "Analysons ce code :\n",
    "\n",
    "${} \\;$\n",
    "\n",
    "$\\quad \\quad \\bullet$ **Délai de connexion :** Nous avons mis en pause le programme pendant $2$ secondes juste après avoir établit la communication avec l'appareil, il est nécessaire de laisser un délai juste après la fonction `serial.Serial` (entre $2$ et $4$ secondes pour la plus part des appareils) pour que la connexion se fasse sans problème (vous pouvez essayer d'envoyer une commande sans respecter ce délai, elle ne sera pas envoyée). \n",
    "\n",
    "\n",
    "${} \\;$\n",
    "\n",
    "\n",
    "$\\quad \\quad \\bullet$ **Envoi de données :** La méthode `.write(COMMANDE)` permet de transmettre des données à l'appareil, généralement les appareils admettent des commandes (donc des *string*) pour faire une action spécifique, dans notre exemple la commande `'IDN?\\n'` demande à l'Arduino d'écrire son port virtuel et son nom.\n",
    "\n",
    "Or, l'argument de la fonction `write` doit être de type $\\mathrm{byte}$ (*octet*) et non pas de type *string*, ainsi le `b` avant la chaîne de caractères `b'IDN?\\n'` permet de convertir la commande en octets qui peuvent être transmis et compris par notre appareil.\n",
    "\n",
    "**Remarque :** Il est impérative de transmettre des informations/commandes **converties en octets** aux appareils connectés en série, on peut pour cela écrire à la volée `device.write(b'COMMANDE')` comme il a été fait dans le code précédent, ou passer par la fonction `bytes()` et l'encodage **utf-8** de la manière suivante :\n"
   ]
  },
  {
   "cell_type": "code",
   "execution_count": 6,
   "id": "d4990762-55c4-465a-ab9f-700a36a223eb",
   "metadata": {},
   "outputs": [
    {
     "name": "stdout",
     "output_type": "stream",
     "text": [
      "<class 'str'>\n",
      "<class 'bytes'>\n",
      "b'My ID is : COM 3 - Arduino Uno'\n",
      "<class 'bytes'>\n"
     ]
    }
   ],
   "source": [
    "arduino = serial.Serial(port='COM3', baudrate=2000000, timeout=1)   \n",
    "sleep(2)  \n",
    "\n",
    "commande_string = 'IDN?\\n'   # commande (chaîne de caractères)\n",
    "print(type(commande_string))\n",
    "\n",
    "commande_bytes = bytes(commande_string, encoding='utf-8')   # conversion en octets\n",
    "print(type(commande_bytes))\n",
    "\n",
    "arduino.write(commande_bytes)    \n",
    "answer = arduino.readline()  \n",
    "print(answer)\n",
    "print(type(answer))\n",
    "arduino.close()  "
   ]
  },
  {
   "cell_type": "markdown",
   "id": "e6b51180-2161-4d03-a249-354ed289c5ac",
   "metadata": {},
   "source": [
    "${} \\; $\n",
    "\n",
    "$\\quad \\quad \\bullet$ **Lecture des données :** Les données renvoyées par l'appareil sont également écrites en octets, donc **sous forme de lignes**, pour récupérer ces données telles qu'elles on utilise la méthode `device.readline()`.\n",
    "\n",
    "Il est préférable d'obtenir la réponse sous la forme d'une chaîne de caractères, il suffit d'utiliser le décodage **ascii** en écrivant :\n",
    "\n",
    "`answer = arduino.readline().decode('ascii')`\n",
    "\n",
    "${} \\;$\n",
    "\n",
    "En reprenant notre exemple :"
   ]
  },
  {
   "cell_type": "code",
   "execution_count": 7,
   "id": "364e4ba2-e7c3-4273-bea6-03e81f468445",
   "metadata": {},
   "outputs": [
    {
     "name": "stdout",
     "output_type": "stream",
     "text": [
      "My ID is : COM 3 - Arduino Uno\n",
      "<class 'str'>\n"
     ]
    }
   ],
   "source": [
    "arduino = serial.Serial(port='COM3', baudrate=2000000, timeout=1)   \n",
    "sleep(2)  \n",
    "arduino.write(b'IDN?\\n')  \n",
    "\n",
    "answer = arduino.readline().decode('ascii')   # Conversion des données en string\n",
    "\n",
    "print(answer)\n",
    "print(type(answer))\n",
    "arduino.close()   "
   ]
  },
  {
   "cell_type": "markdown",
   "id": "947f7f0d-959a-430b-8119-f8f2b3e35406",
   "metadata": {},
   "source": [
    "Il existe également la méthode `device.read()` qui permet de lire le premier caractère de la ligne (Cette méthode renverra `b'M'` dans l'exemple précédent).\n",
    "\n",
    "${} \\;$\n",
    "\n",
    "\n",
    "$\\quad \\quad \\bullet$ **Arrêt de la communication :** Il est d'usage d'interrompre la communication avec l'appareil dès que l'on finit l'action que l'on menait (pour éviter l'apparition de messages d'erreur plus tard si l'on communiquera encore avce notre appareil) via la ligne de code :\n",
    "\n",
    "`device.close()`\n",
    "\n",
    "${} \\;$\n",
    "\n",
    "Nous avons dorénavant toutes les cartes en main pour communiquer avec nos appareils série et récupérer les données qu'ils renvoient.\n",
    "\n",
    "${} \\;$\n",
    "\n"
   ]
  },
  {
   "cell_type": "markdown",
   "id": "78bf5514-0c5d-48c1-92cd-e40455b51b2a",
   "metadata": {},
   "source": [
    "### II.d- Récupérer et afficher des données - exemple avec un capteur de température :"
   ]
  },
  {
   "cell_type": "markdown",
   "id": "6e87bdb5-dc11-4669-8c4b-b6b6ea2333fc",
   "metadata": {},
   "source": [
    "Nous allons réaliser le montage suivant (avec le code Arduino *DHTtester.ino* fournit ) :\n",
    "\n",
    "![schema_exemple.png](schema_exemple.png)\n"
   ]
  },
  {
   "cell_type": "markdown",
   "id": "4ae319fe-35c5-47b5-9917-7ab4f5538a56",
   "metadata": {},
   "source": [
    "Nous allons faire une acquisition de la température chaque $5$ secondes pendant 1 minutes :"
   ]
  },
  {
   "cell_type": "code",
   "execution_count": 8,
   "id": "f2be61ab-8383-4793-be40-d4bc16510eab",
   "metadata": {},
   "outputs": [
    {
     "name": "stdout",
     "output_type": "stream",
     "text": [
      "Liste des températures mesurées : [33.3, 33.3, 33.4, 33.4, 33.5, 33.5, 33.6, 33.6, 33.7, 33.7, 33.7, 33.7]\n"
     ]
    },
    {
     "data": {
      "image/png": "[encoded data removed]",
      "text/plain": [
       "<Figure size 800x800 with 1 Axes>"
      ]
     },
     "metadata": {},
     "output_type": "display_data"
    }
   ],
   "source": [
    "arduino = serial.Serial(port = 'COM3', baudrate=2000000, timeout=1)\n",
    "sleep(1)\n",
    "\n",
    "duree_acquisition = 60      # durée de l'acquisition en secondes\n",
    "intervalle = 5      # intervalle entre 2 mesures en secondes\n",
    "\n",
    "N = int(duree_acquisition / intervalle)    # nombre de points\n",
    "\n",
    "liste_temperature = []      # liste contenant les mesures de température\n",
    "\n",
    "for i in range(N):\n",
    "    answer = arduino.readline().decode('ascii')  # température mesurée sous forme de string\n",
    "    T = float(answer)       # température mesurée sous forme de float\n",
    "    liste_temperature.append(T)\n",
    "    sleep(intervalle)     # met l'acquisiton en pause pendant 20 secondes\n",
    "\n",
    "print('Liste des températures mesurées :',liste_temperature)\n",
    "\n",
    "\n",
    "import matplotlib.pyplot as plt    # Pour afficher des graphes\n",
    "\n",
    "plt.figure(figsize=[8,8])\n",
    "plt.plot(liste_temperature,'ro')\n",
    "plt.xlabel('Numéro de la mesure')\n",
    "plt.ylabel('Température mesurée en °C')\n",
    "plt.title('Points expérimentaux')\n",
    "plt.show()\n",
    "\n",
    "arduino.close()"
   ]
  },
  {
   "cell_type": "markdown",
   "id": "0bac3778-a21d-4368-875f-a41011f77bc6",
   "metadata": {},
   "source": [
    "#### Bonus : acquision en temps réel\n",
    "\n",
    "Il est possible de faire une acquisition en temps réel avec Python en utilisant la bibliothèque `Animation` du package `Matplotlib` (avec 5 secondes entre 2 mesures)."
   ]
  },
  {
   "cell_type": "code",
   "execution_count": 9,
   "id": "5ec63f73-b349-477c-b307-a4be6837f520",
   "metadata": {},
   "outputs": [],
   "source": [
    "%matplotlib qt \n",
    "# affiche la figure dans une nouvelle fenêtre"
   ]
  },
  {
   "cell_type": "code",
   "execution_count": 12,
   "id": "0cfdac53-7d05-4979-b4ee-50c2d45d4a18",
   "metadata": {},
   "outputs": [],
   "source": [
    "from matplotlib.animation import FuncAnimation\n",
    "\n",
    "dt = 5000\n",
    "\n",
    "arduino = serial.Serial(port = 'COM3', baudrate=2000000, timeout=1)\n",
    "sleep(1)\n",
    "\n",
    "fig = plt.figure(figsize=(6, 3))\n",
    "num_mesures = [1]\n",
    "liste_T = [float(arduino.readline().decode('ascii'))]\n",
    " \n",
    "plot, = plt.plot(num_mesures, liste_T, 'r-')\n",
    "\n",
    "sleep(5)\n",
    "\n",
    "def update(frame):\n",
    "    num_mesures.append(num_mesures[-1] + 1)\n",
    "    liste_T.append(float(arduino.readline().decode('ascii')))\n",
    " \n",
    "    plot.set_data(num_mesures, liste_T) \n",
    "    fig.gca().relim()\n",
    "    fig.gca().autoscale_view() \n",
    "    return plot,\n",
    " \n",
    "animation = FuncAnimation(fig, update, interval=dt,cache_frame_data=False)\n",
    "plt.show()\n"
   ]
  },
  {
   "cell_type": "code",
   "execution_count": 13,
   "id": "b4c84a3c-3987-4edd-9a62-f646ae2d2375",
   "metadata": {},
   "outputs": [],
   "source": [
    "arduino.close()     "
   ]
  },
  {
   "cell_type": "markdown",
   "id": "ce8630c9-0feb-4321-b7b5-b84e66a9c1fd",
   "metadata": {},
   "source": [
    "-----------------"
   ]
  },
  {
   "cell_type": "markdown",
   "id": "b94e1882-e23c-4a33-b817-df60bfd3fdaa",
   "metadata": {},
   "source": [
    "## III- Conclusion :"
   ]
  },
  {
   "cell_type": "markdown",
   "id": "8ab0415e-1d8e-4fb5-814a-f22b71a1f4a6",
   "metadata": {},
   "source": [
    "Pour conclure, nous allons citer les notions du guide non abordées plus haut.\n",
    "\n",
    "Si l'on travaille avec un appareil régulièrement (par exemple un oscilloscope dont les commandes sont fixes et non modifiables) il est préférable de définir une classe Python et d'implémenter les méthodes associées aux commandes. \n",
    "\n",
    "Le code ci-dessous prend en exemple un oscilloscope TDS210 Tekronik :"
   ]
  },
  {
   "cell_type": "code",
   "execution_count": 14,
   "id": "b9bd67d0-1ab5-491f-ba05-b4255ab322b5",
   "metadata": {},
   "outputs": [],
   "source": [
    "class TDS210:\n",
    "    \n",
    "    def __init(self, port_oscillo, baudrate_oscillo):\n",
    "        self.oscillo = serial.Serial(port = port_oscillo, baudrate = baudrate_oscillo, timeout=1)\n",
    "    \n",
    "    def IDN(self):\n",
    "        '''Méthode qui renvoie l IDN de l oscilloscope'''\n",
    "        self.oscillo.write('*IDN?\\n')   # commande pour renvoyer l'IDN\n",
    "        self.IDN = self.oscillo.readline().decode('ascii')\n",
    "        print('IDN :',self.IDN)  \n",
    "        \n",
    "    def change_baudrate(self, new_baudrate):\n",
    "        '''Méthode qui change le baudrate de l oscilloscope'''\n",
    "        self.oscillo.write(b'RS232:BAUD %i \\n'%new_baudrate)   # on change le baudrate de l'oscilloscope\n",
    "        self.oscillo.baurate = new_baudrate    # on change le baudrate de la communication avec l'oscilloscope\n",
    "        \n",
    "    def Auto_Set(self):\n",
    "        '''Méthode qui demande à l oscilloscope de faire un AUTO SET'''\n",
    "        self.oscillo.write('AUTOSET\\n')   # commande pour faire un AUTOSET\n"
   ]
  },
  {
   "cell_type": "markdown",
   "id": "47b836e5-eee1-4f49-aa3a-1ba01ffd0ec1",
   "metadata": {},
   "source": [
    "Nous avons mis en exmple des méthodes simples, on peut penser à d'autres méthodes (modifier les Offset, les échelles horizontale et verticales, ...)\n",
    "\n",
    "${} \\;$\n",
    "\n",
    "Pour finir, on peut citer le package `Pyvisa` qui est semblable à `Pyserial` (mais qui en dépend). Il offre un moyen \"plus simple\" de communiquer avec des appareils connectés en USB uniquement (oscilloscopes, GBFs ...) mais dont les fonctions et syntaxes sont similaires à `Pyserial`, il s'agit donc plus d'une \"restriction\" ou d'une \"spécialisation\" plutôt que d'une réelle alternative.\n",
    "\n",
    "${} \\;$\n",
    "\n",
    "${} \\;$"
   ]
  },
  {
   "cell_type": "markdown",
   "id": "2d426990-b964-40e9-94d2-5a6992a0ac3d",
   "metadata": {},
   "source": [
    "-----------\n",
    "\n",
    "#### Crédits :\n",
    "\n",
    "Ce Jupyter Notebook a été réalisé dans le cadre de mon stage court volontaire à l'INSP du 22/05/2023 au 16/06/2023 sous l'encadrement de Mr. Florent Margaillan.\n",
    "\n",
    "Bradai Zakaria - L2 SPRINT "
   ]
  },
  {
   "cell_type": "code",
   "execution_count": null,
   "id": "832f22e3-bf94-435a-b92a-3af1c8d95698",
   "metadata": {},
   "outputs": [],
   "source": []
  }
 ],
 "metadata": {
  "kernelspec": {
   "display_name": "Python 3 (ipykernel)",
   "language": "python",
   "name": "python3"
  },
  "language_info": {
   "codemirror_mode": {
    "name": "ipython",
    "version": 3
   },
   "file_extension": ".py",
   "mimetype": "text/x-python",
   "name": "python",
   "nbconvert_exporter": "python",
   "pygments_lexer": "ipython3",
   "version": "3.9.16"
  }
 },
 "nbformat": 4,
 "nbformat_minor": 5
}
